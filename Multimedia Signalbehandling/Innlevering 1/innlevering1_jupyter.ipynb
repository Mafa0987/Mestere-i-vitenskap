{
 "cells": [
  {
   "cell_type": "code",
   "execution_count": 1,
   "metadata": {},
   "outputs": [],
   "source": [
    "import numpy as np\n",
    "import datetime\n",
    "import os"
   ]
  },
  {
   "cell_type": "code",
   "execution_count": 2,
   "metadata": {},
   "outputs": [
    {
     "name": "stdout",
     "output_type": "stream",
     "text": [
      "transition matrix of data1 =  [[0.24975116 0.75024884]\n",
      " [0.25017335 0.74982665]]\n",
      "transition matrix of data2 =  [[0.         1.        ]\n",
      " [0.33333344 0.66666656]]\n",
      "transition matrix of data3 =  [[0.87448577 0.12551423]\n",
      " [0.04176471 0.95823529]]\n",
      "steady state of data1 =  [0.25006777 0.74993223]\n",
      "steady state of data2 =  [0.25000006 0.74999994]\n",
      "steady state of data3 =  [0.24967104 0.75032896]\n",
      "entropy rate of data1 =  0.8113853918886793\n",
      "entropy rate of data2 =  0.6887219002790084\n",
      "entropy rate of data3 =  0.32389885074769115\n"
     ]
    }
   ],
   "source": [
    "data1 = np.loadtxt(\"data1.txt\")\n",
    "data1 = [str(int(i)) for i in data1]\n",
    "data2 = np.loadtxt(\"data2.txt\")\n",
    "data2 = [str(int(i)) for i in data2]\n",
    "data3 = np.loadtxt(\"data3.txt\")\n",
    "data3 = [str(int(i)) for i in data3]\n",
    "datas = [data1, data2, data3]\n",
    "def get_stationary_distribution(transition_matrix):\n",
    "    eigenvalues, eigenvectors = np.linalg.eig(transition_matrix.T)\n",
    "    stationary_distribution = eigenvectors[:, np.isclose(eigenvalues, 1)].flatten()\n",
    "    return stationary_distribution/np.sum(stationary_distribution)\n",
    "\n",
    "def get_entropy_rate(transition_matrix):\n",
    "    steady_state = get_stationary_distribution(transition_matrix)\n",
    "    entropy_rate = 0\n",
    "    for i in range(0, len(steady_state)):\n",
    "        for j in range(0, len(steady_state)):\n",
    "            entropy_rate += steady_state[i]*transition_matrix[i,j]*np.log2(transition_matrix[i,j]) if transition_matrix[i,j] != 0 else 0\n",
    "    return -entropy_rate\n",
    "def get_transition_matrix(data):\n",
    "    symbols = dict()\n",
    "    max_val = 2**len(data[0])\n",
    "    for i in range(0, max_val):\n",
    "        symbols[bin(i)[2:].zfill(len(data[0]))] = dict()\n",
    "        for j in range(0, max_val):\n",
    "            symbols[bin(i)[2:].zfill(len(data[0]))][bin(j)[2:].zfill(len(data[0]))] = 0\n",
    "    for i in range(0, len(data)-1):\n",
    "        symbols[data[i]][data[i+1]] += 1\n",
    "    transition_matrix = np.zeros((max_val,max_val))\n",
    "    row = 0\n",
    "    for i in symbols:\n",
    "        column = 0\n",
    "        count = sum(symbols[i].values())\n",
    "        for j in symbols[i]:\n",
    "            transition_matrix[row,column] = symbols[i][j]/count if count != 0 else 0\n",
    "            column += 1\n",
    "        row += 1\n",
    "    return transition_matrix     \n",
    "\n",
    "datas_transition_matrix = [get_transition_matrix(i) for i in datas]\n",
    "\n",
    "print(\"transition matrix of data1 = \",datas_transition_matrix[0])\n",
    "print(\"transition matrix of data2 = \",datas_transition_matrix[1])\n",
    "print(\"transition matrix of data3 = \",datas_transition_matrix[2])\n",
    "\n",
    "print(\"steady state of data1 = \",get_stationary_distribution(datas_transition_matrix[0]))\n",
    "print(\"steady state of data2 = \",get_stationary_distribution(datas_transition_matrix[1]))\n",
    "print(\"steady state of data3 = \",get_stationary_distribution(datas_transition_matrix[2]))\n",
    "\n",
    "print(\"entropy rate of data1 = \",get_entropy_rate(datas_transition_matrix[0]))\n",
    "print(\"entropy rate of data2 = \",get_entropy_rate(datas_transition_matrix[1]))\n",
    "print(\"entropy rate of data3 = \",get_entropy_rate(datas_transition_matrix[2])) "
   ]
  }
 ],
 "metadata": {
  "kernelspec": {
   "display_name": "Python 3",
   "language": "python",
   "name": "python3"
  },
  "language_info": {
   "codemirror_mode": {
    "name": "ipython",
    "version": 3
   },
   "file_extension": ".py",
   "mimetype": "text/x-python",
   "name": "python",
   "nbconvert_exporter": "python",
   "pygments_lexer": "ipython3",
   "version": "3.10.10"
  },
  "orig_nbformat": 4,
  "vscode": {
   "interpreter": {
    "hash": "951acce4ee2d6eb9fe3565b96e466293146d7f1585a7e067fb08e2ff6ef89eb0"
   }
  }
 },
 "nbformat": 4,
 "nbformat_minor": 2
}
